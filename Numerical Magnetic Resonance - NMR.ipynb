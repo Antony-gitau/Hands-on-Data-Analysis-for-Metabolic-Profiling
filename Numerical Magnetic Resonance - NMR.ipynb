{
 "cells": [
  {
   "cell_type": "markdown",
   "id": "7a8785a7",
   "metadata": {},
   "source": [
    "# General idea"
   ]
  },
  {
   "cell_type": "markdown",
   "id": "d394213e",
   "metadata": {},
   "source": [
    "### Definitions"
   ]
  },
  {
   "cell_type": "markdown",
   "id": "65d39e4c",
   "metadata": {},
   "source": [
    "Definitions:\n",
    "\n",
    "1. Spectrometry - \n",
    "2. Biofluid - \n",
    "3. Active nuclei in NMR - \n",
    "4. Most abudant spectrum - \n",
    "5. NMR Spectrum - \n",
    "6. Atomic nuclei - \n",
    "7. Chemical shift - \n",
    "8. Nucleur coupling - \n",
    "9. Larmor frequency - \n",
    "10. j-Res\n",
    "11. CPMG "
   ]
  },
  {
   "cell_type": "markdown",
   "id": "2a8ae35a",
   "metadata": {},
   "source": [
    "quality control \n",
    "targeted and untargeted analysis"
   ]
  },
  {
   "cell_type": "markdown",
   "id": "130f0ed7",
   "metadata": {},
   "source": [
    "ionisation \n",
    "atomic \n",
    "concentration of the sample"
   ]
  },
  {
   "cell_type": "code",
   "execution_count": null,
   "id": "b6e8a489",
   "metadata": {},
   "outputs": [],
   "source": []
  }
 ],
 "metadata": {
  "kernelspec": {
   "display_name": "Python 3 (ipykernel)",
   "language": "python",
   "name": "python3"
  },
  "language_info": {
   "codemirror_mode": {
    "name": "ipython",
    "version": 3
   },
   "file_extension": ".py",
   "mimetype": "text/x-python",
   "name": "python",
   "nbconvert_exporter": "python",
   "pygments_lexer": "ipython3",
   "version": "3.9.12"
  }
 },
 "nbformat": 4,
 "nbformat_minor": 5
}
