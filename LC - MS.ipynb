{
  "cells": [
    {
      "cell_type": "markdown",
      "id": "688cd5bc",
      "metadata": {
        "id": "688cd5bc"
      },
      "source": [
        "# General Idea\n",
        "\n",
        "1. what is LC - MS?\n",
        "\n",
        "2. what softwares have you used for LC-MS?\n",
        "- XCMS\n",
        "-XCMS Online\n",
        "- MZMINE 2 and 3 : popular one for metablic profiling\n",
        "- MS-DIAL : Multiple vendor format\n",
        "- Bioconductor\n",
        "- peakpantheR\n",
        "- CAMERA\n",
        "- mataboanalyst\n",
        "\n",
        "3. why do we need pre-processing?\n",
        "\n",
        "4. Metabolite feature?\n",
        "\n",
        "5. Metabolic profile development\n",
        "\n",
        "6. Steps of metabolic data analysis\n",
        "- file converstion\n",
        "- peak detection\n",
        "- parameter setting\n",
        "- peak matching and grouping\n",
        "- alignment\n",
        "- peak filling\n",
        "- Identifying adducts\n",
        "- generating a peak table\n",
        "\n",
        "7. Quality control strategy\n",
        "- repeatability or accuracy filter\n",
        "- batch correction\n",
        "- normalisation\n",
        "- linearity/precision filter\n",
        "\n",
        "8. Challenges of lc-ms  data preprocessing\n",
        "- incorrect peak alignment\n",
        "\n",
        "\n",
        "9. LC-MS data\n",
        "- 3 dimension\n",
        "- retention time -> x\n",
        "- m/z (mass to charge ratio) separation values  -> y\n",
        "- intensity -> z\n",
        "\n",
        "\n"
      ]
    },
    {
      "cell_type": "markdown",
      "id": "ef909b1f",
      "metadata": {
        "id": "ef909b1f"
      },
      "source": [
        "# Definitions"
      ]
    },
    {
      "cell_type": "markdown",
      "id": "8bdcd038",
      "metadata": {
        "id": "8bdcd038"
      },
      "source": [
        "# Applications"
      ]
    },
    {
      "cell_type": "code",
      "execution_count": null,
      "id": "18cf3e9b",
      "metadata": {
        "id": "18cf3e9b"
      },
      "outputs": [],
      "source": []
    }
  ],
  "metadata": {
    "kernelspec": {
      "display_name": "Python 3 (ipykernel)",
      "language": "python",
      "name": "python3"
    },
    "language_info": {
      "codemirror_mode": {
        "name": "ipython",
        "version": 3
      },
      "file_extension": ".py",
      "mimetype": "text/x-python",
      "name": "python",
      "nbconvert_exporter": "python",
      "pygments_lexer": "ipython3",
      "version": "3.9.12"
    },
    "colab": {
      "provenance": []
    }
  },
  "nbformat": 4,
  "nbformat_minor": 5
}